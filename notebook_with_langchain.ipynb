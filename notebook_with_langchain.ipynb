{
 "metadata": {
  "kernelspec": {
   "display_name": "Streamlit Notebook",
   "name": "streamlit"
  }
 },
 "nbformat_minor": 5,
 "nbformat": 4,
 "cells": [
  {
   "cell_type": "markdown",
   "id": "89785736-6f42-4b1e-9c3d-421d0fcc4a79",
   "metadata": {
    "name": "md1",
    "collapsed": false
   },
   "source": "# LangChain in Notebook"
  },
  {
   "cell_type": "markdown",
   "id": "4e84860c-d15a-429e-b73e-1f06970dfc1a",
   "metadata": {
    "name": "md2",
    "collapsed": false
   },
   "source": "Example based on the following resources:\n\n* https://python.langchain.com/v0.2/docs/tutorials/qa_chat_history/\n* https://quickstarts.snowflake.com/guide/asking_questions_to_your_own_documents_with_snowflake_cortex/index.html?index=..%2F..index#0"
  },
  {
   "cell_type": "markdown",
   "id": "f43f8b76-14b7-4b66-ae3a-295caa4e5693",
   "metadata": {
    "name": "md3",
    "collapsed": false
   },
   "source": "The usual one: Snowflake session."
  },
  {
   "cell_type": "code",
   "id": "3775908f-ca36-4846-8f38-5adca39217f2",
   "metadata": {
    "language": "python",
    "name": "create_session",
    "collapsed": false
   },
   "source": "from snowflake.snowpark.context import get_active_session\nsession = get_active_session()",
   "execution_count": null,
   "outputs": []
  },
  {
   "cell_type": "markdown",
   "id": "77c2305f-5a0f-45f9-9f0d-d3bbcfee9b7f",
   "metadata": {
    "name": "md5",
    "collapsed": false
   },
   "source": "Let us define some variables:"
  },
  {
   "cell_type": "markdown",
   "id": "6b663c1a-9768-4194-a7dd-293a9bfa07a7",
   "metadata": {
    "name": "cell1"
   },
   "source": ""
  },
  {
   "cell_type": "code",
   "id": "60e5988d-66cf-4ba0-aa2b-1392259f1531",
   "metadata": {
    "language": "python",
    "name": "variables",
    "collapsed": false
   },
   "outputs": [],
   "source": "MODEL_EMBEDDINGS = \"e5-base-v2\"\nVECTOR_LENGTH = 768\nMODEL_LLM = \"llama3-70b\"\n\nDEBUG_LANGCHAIN = False",
   "execution_count": null
  },
  {
   "cell_type": "code",
   "id": "0b738faf-6ef3-4f33-9ae4-a34ac1996658",
   "metadata": {
    "language": "python",
    "name": "import_langchain"
   },
   "outputs": [],
   "source": "import langchain\n\nlangchain.debug = DEBUG_LANGCHAIN",
   "execution_count": null
  },
  {
   "cell_type": "markdown",
   "id": "a34c3d5d-a5c4-4722-8e33-19eb21635518",
   "metadata": {
    "name": "md6",
    "collapsed": false
   },
   "source": "Use `SQLCortex` LLM"
  },
  {
   "cell_type": "code",
   "id": "f7337c0f-a3af-44eb-98f0-b5a388b68e68",
   "metadata": {
    "language": "python",
    "name": "create_llm"
   },
   "outputs": [],
   "source": "from langchain_snowpoc.llms import SQLCortex\n\nllm = SQLCortex(session=session, model=MODEL_LLM)",
   "execution_count": null
  },
  {
   "cell_type": "markdown",
   "id": "4757a375-0459-4935-82c1-44d69feb62dd",
   "metadata": {
    "name": "md7",
    "collapsed": false
   },
   "source": "Use `SnowflakeEmbeddings` and `SnowflakeVectorStore`"
  },
  {
   "cell_type": "code",
   "id": "3a8ac6dc-5579-4ad1-a372-d65b8b501289",
   "metadata": {
    "language": "python",
    "name": "create_embeddings",
    "collapsed": false
   },
   "outputs": [],
   "source": "from langchain_snowpoc.embedding import SnowflakeEmbeddings\n\nembeddings = SnowflakeEmbeddings(\n    session=session, model=MODEL_EMBEDDINGS\n)",
   "execution_count": null
  },
  {
   "cell_type": "code",
   "id": "9c785138-c3b3-4d73-8324-65295c54787b",
   "metadata": {
    "language": "python",
    "name": "get_retriever",
    "collapsed": false
   },
   "outputs": [],
   "source": "from langchain_snowpoc.vectorstores import SnowflakeVectorStore\n\nv = SnowflakeVectorStore(\n    table=\"LANGCHAIN\",\n    session=session,\n    embedding=embeddings,\n    vector_length=VECTOR_LENGTH\n)\nretriever = v.as_retriever()",
   "execution_count": null
  },
  {
   "cell_type": "markdown",
   "id": "eaae7456-6622-4dff-91b5-84c4c554d710",
   "metadata": {
    "name": "md8",
    "collapsed": false
   },
   "source": "Setup history support for LangChain"
  },
  {
   "cell_type": "code",
   "id": "1220e47e-0b6c-428d-a88e-a4e2a44e5394",
   "metadata": {
    "language": "python",
    "name": "history_prompt",
    "collapsed": false
   },
   "outputs": [],
   "source": "from langchain.chains import create_history_aware_retriever, create_retrieval_chain\nfrom langchain_core.prompts import ChatPromptTemplate, MessagesPlaceholder\n\n### Contextualize question ###\ncontextualize_q_system_prompt = (\n    \"Given a chat history and the latest user question \"\n    \"which might reference context in the chat history, \"\n    \"formulate a standalone question which can be understood \"\n    \"without the chat history. Do NOT answer the question, \"\n    \"just reformulate it if needed and otherwise return it as is.\"\n)\n\ncontextualize_q_prompt = ChatPromptTemplate.from_messages(\n    [\n        (\"system\", contextualize_q_system_prompt),\n        MessagesPlaceholder(\"chat_history\"),\n        (\"human\", \"{input}\"),\n    ]\n)\nhistory_aware_retriever = create_history_aware_retriever(\n    llm, retriever, contextualize_q_prompt\n)",
   "execution_count": null
  },
  {
   "cell_type": "markdown",
   "id": "e243f9d1-75ec-4205-8e33-39020e189dd6",
   "metadata": {
    "name": "md9",
    "collapsed": false
   },
   "source": "Prompt for answering questions"
  },
  {
   "cell_type": "code",
   "id": "930a677a-f728-416d-a384-93882dd4e5b5",
   "metadata": {
    "language": "python",
    "name": "question_prompt"
   },
   "outputs": [],
   "source": "from langchain.chains.combine_documents import create_stuff_documents_chain\n\n### Answer question ###\nsystem_prompt = (\n    \"You are an assistant for question-answering tasks. \"\n    \"Use the following pieces of retrieved context to answer \"\n    \"the question. If you don't know the answer, say that you \"\n    \"don't know. Use three sentences maximum and keep the \"\n    \"answer concise.\"\n    \"\\n\\n\"\n    \"{context}\"\n)\nqa_prompt = ChatPromptTemplate.from_messages(\n    [\n        (\"system\", system_prompt),\n        MessagesPlaceholder(\"chat_history\"),\n        (\"human\", \"{input}\"),\n    ]\n)\nquestion_answer_chain = create_stuff_documents_chain(llm, qa_prompt)",
   "execution_count": null
  },
  {
   "cell_type": "markdown",
   "id": "2f74d173-7314-4414-8cd6-faadbca3a6ba",
   "metadata": {
    "name": "md10",
    "collapsed": false
   },
   "source": "And a RAG chain:"
  },
  {
   "cell_type": "code",
   "id": "1d066280-1ce2-4016-ac6b-78f4d6769608",
   "metadata": {
    "language": "python",
    "name": "prepare_rag_chain"
   },
   "outputs": [],
   "source": "rag_chain = create_retrieval_chain(\n    history_aware_retriever,\n    question_answer_chain\n)",
   "execution_count": null
  },
  {
   "cell_type": "code",
   "id": "568d12ad-1f22-4323-892e-a5e84d51a7ae",
   "metadata": {
    "language": "python",
    "name": "prepare_rag_chain_with_history",
    "collapsed": false
   },
   "outputs": [],
   "source": "from langchain_core.chat_history import BaseChatMessageHistory\nfrom langchain_core.runnables.history import RunnableWithMessageHistory\n\nimport uuid\nfrom langchain_snowpoc.chat_message_histories import SnowflakeChatMessageHistory\n\n## setup chat history\ntable_name = \"chat_history\"\nSnowflakeChatMessageHistory.create_tables(session, table_name)\n\n\n### Statefully manage chat history ###\ndef get_session_history_wrap(\n    session,\n    table_name: str = 'chat_history'):\n    def _get_session_history(session_id: str, ) -> BaseChatMessageHistory:\n        return SnowflakeChatMessageHistory(\n            table_name,\n            session_id,\n            session=session,\n    )\n    return _get_session_history\n\nget_session_history = get_session_history_wrap(session, table_name)\n\nconversational_rag_chain = RunnableWithMessageHistory(\n    rag_chain,\n    get_session_history,\n    input_messages_key=\"input\",\n    history_messages_key=\"chat_history\",\n    output_messages_key=\"answer\",\n)",
   "execution_count": null
  },
  {
   "cell_type": "markdown",
   "id": "3e626e00-3a60-474f-afd4-13d1d7dd76b4",
   "metadata": {
    "name": "md11",
    "collapsed": false
   },
   "source": "A helper function, to make it easy to get answers."
  },
  {
   "cell_type": "code",
   "id": "33616ff4-8486-4d96-8688-f471b44d3d5f",
   "metadata": {
    "language": "python",
    "name": "question_helper",
    "collapsed": false
   },
   "outputs": [],
   "source": "def ask(question, session_id=uuid.uuid4()):\n    return conversational_rag_chain.invoke(\n        {\"input\": question},\n        config={\n            \"configurable\": {\"session_id\": session_id,}\n        },\n    )[\"answer\"]",
   "execution_count": null
  },
  {
   "cell_type": "markdown",
   "id": "28ac2863-e67f-4ae7-92f3-3d920bd30a03",
   "metadata": {
    "name": "md12",
    "collapsed": false
   },
   "source": "# Sample usage\nLet's see some examples, the usual ones."
  },
  {
   "cell_type": "markdown",
   "id": "183e7ba7-add7-4bf7-8ac9-b8b4a44cfaac",
   "metadata": {
    "name": "md13",
    "collapsed": false
   },
   "source": "## Ski boots"
  },
  {
   "cell_type": "code",
   "id": "bde8ed0b-31a4-4ea4-8ddc-e457b2fc98e7",
   "metadata": {
    "language": "python",
    "name": "ask_ski_boots_1",
    "collapsed": false
   },
   "outputs": [],
   "source": "id_ski_boots = str(uuid.uuid4())\nask(\"What is the name of the ski boots?\", session_id=id_ski_boots)",
   "execution_count": null
  },
  {
   "cell_type": "code",
   "id": "85a19a6a-cdc3-4860-af0e-116eb534c4a3",
   "metadata": {
    "language": "python",
    "name": "ask_ski_boots_2",
    "collapsed": false
   },
   "outputs": [],
   "source": "ask(\"Where have they been tested?\", session_id=id_ski_boots)",
   "execution_count": null
  },
  {
   "cell_type": "code",
   "id": "64a47b19-6c1e-48ce-81c1-bce6f896d409",
   "metadata": {
    "language": "python",
    "name": "ask_ski_boots_3",
    "collapsed": false
   },
   "outputs": [],
   "source": "ask(\"What are they good for?\", session_id=id_ski_boots)",
   "execution_count": null
  },
  {
   "cell_type": "markdown",
   "id": "f3232e3c-4559-4b62-a467-15b8c3b212cf",
   "metadata": {
    "name": "md14",
    "collapsed": false
   },
   "source": "## Downhill bike"
  },
  {
   "cell_type": "code",
   "id": "1ea4e83c-28b3-4dd5-9b54-8f8de6a36e7b",
   "metadata": {
    "language": "python",
    "name": "ask_downhill_1",
    "collapsed": false
   },
   "outputs": [],
   "source": "id_downhill_bike = str(uuid.uuid4())\n\nask(\"What is the name of the downhill bike?\", session_id=id_downhill_bike)",
   "execution_count": null
  },
  {
   "cell_type": "code",
   "id": "270319d8-3744-4880-833c-1a9e196bc36f",
   "metadata": {
    "language": "python",
    "name": "ask_downhill_2"
   },
   "outputs": [],
   "source": "ask(\"What is it made of?\", session_id=id_downhill_bike)",
   "execution_count": null
  },
  {
   "cell_type": "code",
   "id": "582e4726-08c3-4737-9837-42fa999b38c5",
   "metadata": {
    "language": "python",
    "name": "ask_downhill_3"
   },
   "outputs": [],
   "source": "ask(\"Who tested the bike?\", session_id=id_downhill_bike)",
   "execution_count": null
  },
  {
   "cell_type": "code",
   "id": "b22fd76c-f508-42f7-a404-4fb6be8cc518",
   "metadata": {
    "language": "python",
    "name": "ask_downhill_4"
   },
   "outputs": [],
   "source": "ask(\"What are they famous about?\", session_id=id_downhill_bike)",
   "execution_count": null
  },
  {
   "cell_type": "markdown",
   "id": "b9eb20e2-b144-4398-ad3b-7f9408297aaa",
   "metadata": {
    "name": "md15",
    "collapsed": false
   },
   "source": "## Infant bike\n"
  },
  {
   "cell_type": "code",
   "id": "a679eda7-f992-4ac9-8205-4cb74051adeb",
   "metadata": {
    "language": "python",
    "name": "ask_infant_1"
   },
   "outputs": [],
   "source": "id_infant_bike = str(uuid.uuid4())\nask(\"What is the max speed for the infant bike?\", session_id=id_infant_bike)",
   "execution_count": null
  },
  {
   "cell_type": "code",
   "id": "d0ef3ec4-3abe-4c37-93dd-017b7ee663d6",
   "metadata": {
    "language": "python",
    "name": "ask_infant_2"
   },
   "outputs": [],
   "source": "ask(\"Do I need any special tool for the assembly?\", session_id=id_infant_bike)",
   "execution_count": null
  },
  {
   "cell_type": "code",
   "id": "d31ad0c6-07ee-434a-b30d-01ffcb977cbf",
   "metadata": {
    "language": "python",
    "name": "ask_infant_3"
   },
   "outputs": [],
   "source": "ask(\"How should I clean the bike?\", session_id=id_infant_bike)",
   "execution_count": null
  },
  {
   "cell_type": "markdown",
   "id": "250d1e7f-8222-4921-85b4-cf39aaf14c5e",
   "metadata": {
    "name": "md16",
    "collapsed": false
   },
   "source": "Done!"
  }
 ]
}